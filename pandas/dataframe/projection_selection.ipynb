{
 "cells": [
  {
   "cell_type": "code",
   "execution_count": 1,
   "metadata": {
    "collapsed": true
   },
   "outputs": [],
   "source": [
    "%load_ext autoreload\n",
    "%autoreload 2"
   ]
  },
  {
   "cell_type": "code",
   "execution_count": 1,
   "metadata": {
    "collapsed": true
   },
   "outputs": [],
   "source": [
    "import numpy as np\n",
    "import pandas as pd"
   ]
  },
  {
   "cell_type": "code",
   "execution_count": 2,
   "metadata": {
    "collapsed": true
   },
   "outputs": [],
   "source": [
    "df = pd.read_csv('data.csv')"
   ]
  },
  {
   "cell_type": "code",
   "execution_count": 3,
   "metadata": {
    "collapsed": false
   },
   "outputs": [
    {
     "name": "stdout",
     "output_type": "stream",
     "text": [
      "   running_time                     title  year\n",
      "0           118  The Silence of the Lambs  1991\n",
      "1           106        The Usual Suspects  1995\n",
      "2           119        American History X  1998\n",
      "3           177             The Godfather  1972\n",
      "4           179   The Wolf of Wall Street  2013\n",
      "5            31                 Kung Fury  2015\n",
      "6            91                 Dead Snow  2009\n"
     ]
    }
   ],
   "source": [
    "print(df)"
   ]
  },
  {
   "cell_type": "code",
   "execution_count": 4,
   "metadata": {
    "collapsed": false
   },
   "outputs": [
    {
     "name": "stdout",
     "output_type": "stream",
     "text": [
      "0    The Silence of the Lambs\n",
      "1          The Usual Suspects\n",
      "2          American History X\n",
      "3               The Godfather\n",
      "4     The Wolf of Wall Street\n",
      "5                   Kung Fury\n",
      "6                   Dead Snow\n",
      "Name: title, dtype: object \n",
      "\n"
     ]
    }
   ],
   "source": [
    "#single column\n",
    "print(df.title, '\\n')\n",
    "#also df['title'] or df.loc[:, 'title']"
   ]
  },
  {
   "cell_type": "code",
   "execution_count": 5,
   "metadata": {
    "collapsed": false
   },
   "outputs": [
    {
     "name": "stdout",
     "output_type": "stream",
     "text": [
      "                      title  running_time\n",
      "0  The Silence of the Lambs           118\n",
      "1        The Usual Suspects           106\n",
      "2        American History X           119\n",
      "3             The Godfather           177\n",
      "4   The Wolf of Wall Street           179\n",
      "5                 Kung Fury            31\n",
      "6                 Dead Snow            91\n"
     ]
    }
   ],
   "source": [
    "#projections\n",
    "columns = ['title', 'running_time']\n",
    "print(df.loc[:, columns])"
   ]
  },
  {
   "cell_type": "code",
   "execution_count": 6,
   "metadata": {
    "collapsed": false
   },
   "outputs": [
    {
     "name": "stdout",
     "output_type": "stream",
     "text": [
      "running_time              177\n",
      "title           The Godfather\n",
      "year                     1972\n",
      "Name: 3, dtype: object \n",
      "\n"
     ]
    }
   ],
   "source": [
    "#select single row\n",
    "print(df.loc[3, :], '\\n')"
   ]
  },
  {
   "cell_type": "code",
   "execution_count": 7,
   "metadata": {
    "collapsed": false
   },
   "outputs": [
    {
     "name": "stdout",
     "output_type": "stream",
     "text": [
      "   running_time                     title  year\n",
      "0           118  The Silence of the Lambs  1991\n",
      "2           119        American History X  1998\n",
      "4           179   The Wolf of Wall Street  2013\n",
      "6            91                 Dead Snow  2009\n"
     ]
    }
   ],
   "source": [
    "#select samples\n",
    "print(df.loc[0:7:2, :])"
   ]
  },
  {
   "cell_type": "code",
   "execution_count": 8,
   "metadata": {
    "collapsed": false
   },
   "outputs": [
    {
     "name": "stdout",
     "output_type": "stream",
     "text": [
      "The Godfather \n",
      "\n",
      "0    The Silence of the Lambs\n",
      "1          The Usual Suspects\n",
      "2          American History X\n",
      "3               The Godfather\n",
      "Name: title, dtype: object\n"
     ]
    }
   ],
   "source": [
    "#select cell\n",
    "print(df.loc[3, 'title'], '\\n')"
   ]
  },
  {
   "cell_type": "code",
   "execution_count": 9,
   "metadata": {
    "collapsed": false
   },
   "outputs": [
    {
     "name": "stdout",
     "output_type": "stream",
     "text": [
      "0    The Silence of the Lambs\n",
      "1          The Usual Suspects\n",
      "2          American History X\n",
      "3               The Godfather\n",
      "Name: title, dtype: object\n"
     ]
    }
   ],
   "source": [
    "print(df.loc[0:3, 'title'])"
   ]
  },
  {
   "cell_type": "code",
   "execution_count": 10,
   "metadata": {
    "collapsed": false
   },
   "outputs": [
    {
     "name": "stdout",
     "output_type": "stream",
     "text": [
      "   running_time      title  year\n",
      "5            31  Kung Fury  2015\n"
     ]
    }
   ],
   "source": [
    "#slicing\n",
    "print(df.loc[df.title == 'Kung Fury',])"
   ]
  },
  {
   "cell_type": "code",
   "execution_count": 11,
   "metadata": {
    "collapsed": false
   },
   "outputs": [
    {
     "name": "stdout",
     "output_type": "stream",
     "text": [
      "   running_time                    title  year\n",
      "4           179  The Wolf of Wall Street  2013 \n",
      "\n"
     ]
    }
   ],
   "source": [
    "#dicing\n",
    "print(df.loc[np.logical_and(df.year > 1995, df.running_time > 150), :], '\\n')"
   ]
  },
  {
   "cell_type": "code",
   "execution_count": 12,
   "metadata": {
    "collapsed": false
   },
   "outputs": [
    {
     "name": "stdout",
     "output_type": "stream",
     "text": [
      "   running_time                     title  year\n",
      "0           118  The Silence of the Lambs  1991\n",
      "1           106        The Usual Suspects  1995\n",
      "2           119            some new title  1998\n",
      "3           177            some new title  1972\n",
      "4           179            some new title  2013\n",
      "5            31            some new title  2015\n",
      "6            91            some new title  2009\n"
     ]
    }
   ],
   "source": [
    "#also writing on df is possible\n",
    "condition = np.logical_or(df.year > 1995, df.running_time > 150)\n",
    "df.loc[condition, 'title'] = 'some new title'\n",
    "print(df)"
   ]
  },
  {
   "cell_type": "code",
   "execution_count": 13,
   "metadata": {
    "collapsed": false
   },
   "outputs": [
    {
     "name": "stdout",
     "output_type": "stream",
     "text": [
      "               running_time  title  year\n",
      "0  The Silence of the Lambs    118  1991\n",
      "1        The Usual Suspects    106  1995\n",
      "2            some new title    119  1998\n",
      "3            some new title    177  1972\n",
      "4            some new title    179  2013\n",
      "5            some new title     31  2015\n",
      "6            some new title     91  2009\n"
     ]
    }
   ],
   "source": [
    "tmp = df.loc[:,'running_time']\n",
    "df.loc[:,'running_time'] = df.loc[:, 'title']\n",
    "df.loc[:, 'title'] = tmp\n",
    "print(df)"
   ]
  },
  {
   "cell_type": "code",
   "execution_count": 14,
   "metadata": {
    "collapsed": false
   },
   "outputs": [
    {
     "name": "stdout",
     "output_type": "stream",
     "text": [
      "               running_time  title  year\n",
      "6            some new title     91  2009\n",
      "5            some new title     31  2015\n",
      "4            some new title    179  2013\n",
      "3            some new title    177  1972\n",
      "2            some new title    119  1998\n",
      "1        The Usual Suspects    106  1995\n",
      "0  The Silence of the Lambs    118  1991\n"
     ]
    }
   ],
   "source": [
    "#How to reverse the order of rows?\n",
    "print(df.loc[::-1, :])"
   ]
  },
  {
   "cell_type": "code",
   "execution_count": null,
   "metadata": {
    "collapsed": true
   },
   "outputs": [],
   "source": []
  }
 ],
 "metadata": {
  "kernelspec": {
   "display_name": "Python 3",
   "language": "python",
   "name": "python3"
  },
  "language_info": {
   "codemirror_mode": {
    "name": "ipython",
    "version": 3
   },
   "file_extension": ".py",
   "mimetype": "text/x-python",
   "name": "python",
   "nbconvert_exporter": "python",
   "pygments_lexer": "ipython3",
   "version": "3.4.3"
  }
 },
 "nbformat": 4,
 "nbformat_minor": 1
}
